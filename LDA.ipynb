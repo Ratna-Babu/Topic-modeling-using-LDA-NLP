{
  "nbformat": 4,
  "nbformat_minor": 0,
  "metadata": {
    "colab": {
      "provenance": [],
      "authorship_tag": "ABX9TyPUMl3xZNoaXX8QrSfpipjM",
      "include_colab_link": true
    },
    "kernelspec": {
      "name": "python3",
      "display_name": "Python 3"
    },
    "language_info": {
      "name": "python"
    }
  },
  "cells": [
    {
      "cell_type": "markdown",
      "metadata": {
        "id": "view-in-github",
        "colab_type": "text"
      },
      "source": [
        "<a href=\"https://colab.research.google.com/github/Ratna-Babu/Topic-modeling-using-LDA-NLP/blob/main/LDA.ipynb\" target=\"_parent\"><img src=\"https://colab.research.google.com/assets/colab-badge.svg\" alt=\"Open In Colab\"/></a>"
      ]
    },
    {
      "cell_type": "markdown",
      "source": [
        "Topic modelling using Latent Dirichlet Allocation (LDA) in python\n"
      ],
      "metadata": {
        "id": "mN04WNCWgnsm"
      }
    },
    {
      "cell_type": "code",
      "source": [
        "from gensim import corpora, models\n",
        "from nltk.tokenize import word_tokenize\n",
        "from nltk.corpus import stopwords\n",
        "from nltk.stem import WordNetLemmatizer\n",
        "import nltk"
      ],
      "metadata": {
        "id": "5aE7NK6Kgwx9"
      },
      "execution_count": 8,
      "outputs": []
    },
    {
      "cell_type": "code",
      "source": [
        "# Download NLTK resources (only needed once)\n",
        "nltk.download('punkt')\n",
        "nltk.download('stopwords')\n",
        "nltk.download('wordnet')\n",
        "nltk.download('punkt_tab')"
      ],
      "metadata": {
        "colab": {
          "base_uri": "https://localhost:8080/"
        },
        "id": "aLsXUOjShFYe",
        "outputId": "81ccca10-9b9e-4253-a2d2-58650fd341a7"
      },
      "execution_count": 13,
      "outputs": [
        {
          "output_type": "stream",
          "name": "stderr",
          "text": [
            "[nltk_data] Downloading package punkt to /root/nltk_data...\n",
            "[nltk_data]   Package punkt is already up-to-date!\n",
            "[nltk_data] Downloading package stopwords to /root/nltk_data...\n",
            "[nltk_data]   Package stopwords is already up-to-date!\n",
            "[nltk_data] Downloading package wordnet to /root/nltk_data...\n",
            "[nltk_data]   Package wordnet is already up-to-date!\n",
            "[nltk_data] Downloading package punkt_tab to /root/nltk_data...\n",
            "[nltk_data]   Unzipping tokenizers/punkt_tab.zip.\n"
          ]
        },
        {
          "output_type": "execute_result",
          "data": {
            "text/plain": [
              "True"
            ]
          },
          "metadata": {},
          "execution_count": 13
        }
      ]
    },
    {
      "cell_type": "code",
      "source": [
        "# Example dataset\n",
        "documents = [\n",
        " \"Machine learning is transforming artificial intelligence.\",\n",
        " \"Natural language processing is fascinating.\",\n",
        " \"Artificial intelligence and machine learning are related.\",\n",
        " \"Data science involves statistics and problem solving.\",\n",
        " \"Deep learning uses neural networks.\"\n",
        "]"
      ],
      "metadata": {
        "id": "uaOihlhchLJl"
      },
      "execution_count": 14,
      "outputs": []
    },
    {
      "cell_type": "code",
      "source": [
        "# Preprocessing function\n",
        "def preprocess_text(text):\n",
        "  stop_words = set(stopwords.words('english'))\n",
        "  lemmatizer = WordNetLemmatizer()\n",
        "  tokens = word_tokenize(text.lower())\n",
        "  return [lemmatizer.lemmatize(word) for word in tokens if word.isalnum() and word not in stop_words]"
      ],
      "metadata": {
        "id": "9-1A4GojhWUV"
      },
      "execution_count": 15,
      "outputs": []
    },
    {
      "cell_type": "code",
      "source": [
        "# Preprocess the documents\n",
        "processed_docs = [preprocess_text(doc) for doc in documents]"
      ],
      "metadata": {
        "id": "5UQIk0qihtFV"
      },
      "execution_count": 16,
      "outputs": []
    },
    {
      "cell_type": "code",
      "source": [
        "# Create dictionary and corpus\n",
        "dictionary = corpora.Dictionary(processed_docs)\n",
        "corpus = [dictionary.doc2bow(doc) for doc in processed_docs]"
      ],
      "metadata": {
        "id": "_CvpYzJbh1f1"
      },
      "execution_count": 17,
      "outputs": []
    },
    {
      "cell_type": "code",
      "source": [
        "# Train the LDA model\n",
        "lda_model = models.LdaModel(corpus, num_topics=2, id2word=dictionary, passes=10)"
      ],
      "metadata": {
        "id": "NJ91OE53h6dW"
      },
      "execution_count": 18,
      "outputs": []
    },
    {
      "cell_type": "code",
      "source": [
        "# Print topics\n",
        "for idx, topic in lda_model.print_topics(num_words=5):\n",
        "  print(f\"Topic {idx}: {topic}\")"
      ],
      "metadata": {
        "colab": {
          "base_uri": "https://localhost:8080/"
        },
        "id": "DIsY4tD5iAcV",
        "outputId": "4a6705b3-f6c2-4583-cb0f-4e5e98e301d1"
      },
      "execution_count": 19,
      "outputs": [
        {
          "output_type": "stream",
          "name": "stdout",
          "text": [
            "Topic 0: 0.096*\"learning\" + 0.096*\"intelligence\" + 0.096*\"machine\" + 0.096*\"artificial\" + 0.057*\"solving\"\n",
            "Topic 1: 0.079*\"learning\" + 0.079*\"neural\" + 0.079*\"network\" + 0.079*\"us\" + 0.079*\"deep\"\n"
          ]
        }
      ]
    }
  ]
}